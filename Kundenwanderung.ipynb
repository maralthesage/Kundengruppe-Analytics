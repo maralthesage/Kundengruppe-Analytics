{
 "cells": [
  {
   "cell_type": "code",
   "execution_count": null,
   "metadata": {},
   "outputs": [],
   "source": [
    "\n",
    "import pandas as pd\n",
    "import os\n",
    "import datetime as dt\n",
    "from helper import *\n",
    "from paths import *\n",
    "\n",
    "enc = 'cp850'\n",
    "sep = ';'"
   ]
  },
  {
   "cell_type": "code",
   "execution_count": null,
   "metadata": {},
   "outputs": [],
   "source": [
    "\n",
    "hj_nr, prev_start, prev_end = get_half_year_info().values()\n",
    "last_HJ = f'Z{hj_nr}'\n",
    "prev_start = pd.to_datetime(prev_start)\n",
    "prev_end = pd.to_datetime(prev_end)"
   ]
  },
  {
   "cell_type": "code",
   "execution_count": null,
   "metadata": {},
   "outputs": [],
   "source": [
    "\n",
    "kunden_segments = pd.read_excel(ks_path)\n",
    "kunden_segment_dict = dict(zip(kunden_segments['Alt'],kunden_segments['Neu']))\n",
    "\n",
    "kw = pd.read_csv(kw_path, sep=sep,encoding=enc,on_bad_lines='skip')\n",
    "adresse = pd.read_csv(adresse_path, sep=sep,encoding=enc)\n",
    "stat = pd.read_csv(stat_path, sep=sep,encoding=enc,usecols=['NUMMER','ERSTKAUF'])\n",
    "\n",
    "inx = pd.read_excel(inx_path,usecols=['NUMMER','NL_TYPE'])\n",
    "\n",
    "rechnung = pd.read_csv(rech_f01,sep=sep,encoding=enc)"
   ]
  },
  {
   "cell_type": "code",
   "execution_count": null,
   "metadata": {},
   "outputs": [],
   "source": [
    "kw[last_HJ] = kw[last_HJ].map(kunden_segment_dict)"
   ]
  },
  {
   "cell_type": "code",
   "execution_count": null,
   "metadata": {},
   "outputs": [],
   "source": [
    "\n",
    "kw['NUMMER'] = process_id(kw['NUMMER'])\n",
    "\n",
    "adresse['NUMMER'] = process_id(adresse['NUMMER'])\n",
    "adresse['GEBURT'] = process_date(adresse['GEBURT'])\n",
    "adresse['SYS_ANLAGE'] = process_date(adresse['SYS_ANLAGE'])\n",
    "adresse = assign_age(adresse)\n",
    "adresse = assign_sources(adresse,'QUELLE')\n",
    "adresse['QUELLE'] = adresse['SOURCE']\n",
    "adresse = adresse.drop(columns=['SOURCE'])\n",
    "\n",
    "stat['NUMMER'] = process_id(stat['NUMMER'])\n",
    "stat['ERSTKAUF'] = process_date(stat['ERSTKAUF'])\n",
    "\n",
    "inx['NUMMER'] = process_id(inx['NUMMER'])\n",
    "rechnung['NUMMER'] = process_id(rechnung['NUMMER'])\n",
    "rechnung['AUF_ANLAGE'] = process_date(rechnung['AUF_ANLAGE'])\n",
    "rechnung = assign_sources(rechnung,'MEDIACODE')\n",
    "rechnung['MEDIACODE'] = rechnung['SOURCE']\n",
    "rechnung = rechnung.drop(columns=['SOURCE'])\n",
    "rechnung['HERKUNFT'] = rechnung['HERKUNFT'].astype(str).str.replace('.0','')\n",
    "\n",
    "rechnung['HERKUNFT'] = rechnung['HERKUNFT'].map(herkunft)\n",
    "rechnung['HERKUNFT'].astype(str).value_counts()"
   ]
  },
  {
   "cell_type": "code",
   "execution_count": null,
   "metadata": {},
   "outputs": [],
   "source": [
    "adresse['ANREDE'] = process_anrede(adresse['ANREDE'])\n",
    "adresse['ANREDE'] = adresse['ANREDE'].map(anrede)"
   ]
  },
  {
   "cell_type": "code",
   "execution_count": null,
   "metadata": {},
   "outputs": [],
   "source": [
    "rechnung = rechnung[(rechnung['AUF_ANLAGE']>= prev_start)&(rechnung['AUF_ANLAGE']<= prev_end)]\n",
    "rechnung_gr = rechnung.groupby(['NUMMER']).agg(             ANZ_AUF=('AUFTRAG_NR','nunique'),\n",
    "                                                            AUF_ANLAGE=('AUF_ANLAGE','first'),\n",
    "                                                            MEDIACODE=('MEDIACODE','first'),\n",
    "                                                            UMSATZ=('PREIS','sum'),\n",
    "                                                            HERKUNFT=('HERKUNFT','first')\n",
    "                                                            ).reset_index()"
   ]
  },
  {
   "cell_type": "code",
   "execution_count": null,
   "metadata": {},
   "outputs": [],
   "source": [
    "\n",
    "df = pd.merge(adresse,kw[['NUMMER',last_HJ]],on='NUMMER',how='left')\n",
    "df = pd.merge(df,stat,on='NUMMER',how='left')\n",
    "df = pd.merge(df,inx,on='NUMMER',how='left')\n",
    "df = pd.merge(df,rechnung_gr,on='NUMMER',how='left')\n"
   ]
  },
  {
   "cell_type": "code",
   "execution_count": null,
   "metadata": {},
   "outputs": [],
   "source": [
    "df = df[['NUMMER', 'ANREDE', 'TITEL', 'VORNAME', 'NAME', 'QUELLE', 'LKZ', 'PLZ', 'ORT',\n",
    "       'SYS_ANLAGE', 'AGE_GROUP',  last_HJ, 'ERSTKAUF', 'NL_TYPE',\n",
    "       'ANZ_AUF', 'HERKUNFT',  'MEDIACODE','AUF_ANLAGE', 'UMSATZ']]\n",
    "df = df.rename(columns={last_HJ:'Kundengruppe'})\n",
    "df = df.drop_duplicates(subset='NUMMER')"
   ]
  },
  {
   "cell_type": "code",
   "execution_count": null,
   "metadata": {},
   "outputs": [],
   "source": [
    "# df.loc[(df['ERSTKAUF']>=prev_start)&(df['ERSTKAUF']<prev_end),'Kundengruppe'] = \"Neukunden-1\"\n",
    "df.loc[(df['ERSTKAUF'].isna()),'Kundengruppe'] = \"Interessenten\"\n"
   ]
  },
  {
   "cell_type": "code",
   "execution_count": null,
   "metadata": {},
   "outputs": [],
   "source": [
    "df = df[df['SYS_ANLAGE']<prev_end]"
   ]
  },
  {
   "cell_type": "code",
   "execution_count": null,
   "metadata": {},
   "outputs": [],
   "source": [
    "kg"
   ]
  },
  {
   "cell_type": "code",
   "execution_count": null,
   "metadata": {},
   "outputs": [],
   "source": [
    "# df.to_csv('kw.csv',sep=';',encoding='cp850',index=False)"
   ]
  },
  {
   "cell_type": "code",
   "execution_count": null,
   "metadata": {},
   "outputs": [],
   "source": [
    "kg = list(df[df['Kundengruppe'].notna()]['Kundengruppe'].unique())\n",
    "with pd.ExcelWriter('KundenInfo-2024-2HJ.xlsx',engine='xlsxwriter') as writer:\n",
    "    for item in kg:\n",
    "        print(item)\n",
    "        df[df['Kundengruppe'] == item].to_excel(writer,index=False,sheet_name=item)"
   ]
  },
  {
   "cell_type": "code",
   "execution_count": null,
   "metadata": {},
   "outputs": [],
   "source": [
    "# df[df['Kundengruppe'] == 'Neukunden-2'].to_excel('aktiv-top-2024-2hj.xlsx',index=False)"
   ]
  },
  {
   "cell_type": "code",
   "execution_count": null,
   "metadata": {},
   "outputs": [],
   "source": [
    "df[df['Kundengruppe'] == 'Neukunden-2']"
   ]
  },
  {
   "cell_type": "code",
   "execution_count": null,
   "metadata": {},
   "outputs": [],
   "source": [
    "kw[['NUMMER','Z49']]"
   ]
  },
  {
   "cell_type": "code",
   "execution_count": null,
   "metadata": {},
   "outputs": [],
   "source": []
  }
 ],
 "metadata": {
  "kernelspec": {
   "display_name": ".venv",
   "language": "python",
   "name": "python3"
  },
  "language_info": {
   "codemirror_mode": {
    "name": "ipython",
    "version": 3
   },
   "file_extension": ".py",
   "mimetype": "text/x-python",
   "name": "python",
   "nbconvert_exporter": "python",
   "pygments_lexer": "ipython3",
   "version": "3.13.3"
  }
 },
 "nbformat": 4,
 "nbformat_minor": 2
}
