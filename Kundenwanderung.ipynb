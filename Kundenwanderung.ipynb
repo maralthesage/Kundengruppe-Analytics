{
 "cells": [
  {
   "cell_type": "code",
   "execution_count": 15,
   "metadata": {},
   "outputs": [],
   "source": [
    "import pandas as pd\n",
    "import os\n",
    "import datetime as dt\n",
    "from helper import *\n",
    "from paths import *"
   ]
  },
  {
   "cell_type": "code",
   "execution_count": 12,
   "metadata": {},
   "outputs": [],
   "source": [
    "hj_nr, prev_start, prev_end = get_half_year_info().values()\n",
    "last_HJ = f'Z{hj_nr}'"
   ]
  },
  {
   "cell_type": "code",
   "execution_count": null,
   "metadata": {},
   "outputs": [],
   "source": [
    "kunden_segments = pd.read_excel(ks_path)\n",
    "kunden_segment_dict = dict(zip(kunden_segments['Alt'],kunden_segments['Neu']))\n",
    "\n",
    "kw = pd.read_csv(kw_path, sep=';',encoding='cp850',on_bad_lines='skip')\n",
    "adresse = pd.read_csv(adresse_path, sep=';',encoding='cp850')\n",
    "stat = pd.read_csv(stat_path, sep=';',encoding='cp850',usecols=['NUMMER','ERSTKAUF'])"
   ]
  },
  {
   "cell_type": "code",
   "execution_count": null,
   "metadata": {},
   "outputs": [],
   "source": [
    "kw[last_HJ] = kw[last_HJ].map(kunden_segment_dict)"
   ]
  },
  {
   "cell_type": "code",
   "execution_count": null,
   "metadata": {},
   "outputs": [],
   "source": [
    "\n",
    "kw['NUMMER'] = process_id(kw['NUMMER'])\n",
    "adresse['NUMMER'] = process_id(adresse['NUMMER'])\n",
    "stat['NUMMER'] = process_id(stat['NUMMER'])\n",
    "adresse['GEBURT'] = process_date(adresse['GEBURT'])\n",
    "adresse = assign_age(adresse)"
   ]
  },
  {
   "cell_type": "code",
   "execution_count": null,
   "metadata": {},
   "outputs": [],
   "source": [
    "df = pd.merge(adresse,kw[['NUMMER',last_HJ]],on='NUMMER',how='left')\n",
    "df = pd.merge(df,stat,on='NUMMER',how='left')"
   ]
  },
  {
   "cell_type": "code",
   "execution_count": 113,
   "metadata": {},
   "outputs": [],
   "source": [
    "df = df[['NUMMER', 'ANREDE', 'TITEL', 'VORNAME', 'NAME','QUELLE', 'GEBURT', 'LKZ', 'PLZ', 'ORT','SYS_ANLAGE', 'SYS_BEWEG','ERSTKAUF', last_HJ]]"
   ]
  },
  {
   "cell_type": "code",
   "execution_count": null,
   "metadata": {},
   "outputs": [],
   "source": [
    "df.loc[(df['ERSTKAUF']>=prev_start)&(df['ERSTKAUF']<prev_end),last_HJ] = \"Neukunden-1\"\n",
    "df.loc[(df['ERSTKAUF'].isna()),last_HJ] = \"Interessenten\"\n"
   ]
  },
  {
   "cell_type": "code",
   "execution_count": null,
   "metadata": {},
   "outputs": [],
   "source": [
    "df = df[df['SYS_ANLAGE']<prev_end]"
   ]
  },
  {
   "cell_type": "code",
   "execution_count": 120,
   "metadata": {},
   "outputs": [],
   "source": [
    "df.to_csv('kw.csv',sep=';',encoding='cp850',index=False)"
   ]
  }
 ],
 "metadata": {
  "kernelspec": {
   "display_name": ".venv",
   "language": "python",
   "name": "python3"
  },
  "language_info": {
   "codemirror_mode": {
    "name": "ipython",
    "version": 3
   },
   "file_extension": ".py",
   "mimetype": "text/x-python",
   "name": "python",
   "nbconvert_exporter": "python",
   "pygments_lexer": "ipython3",
   "version": "3.13.3"
  }
 },
 "nbformat": 4,
 "nbformat_minor": 2
}
